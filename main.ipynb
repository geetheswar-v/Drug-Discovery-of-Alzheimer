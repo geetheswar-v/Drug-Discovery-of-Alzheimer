{
 "cells": [
  {
   "cell_type": "code",
   "execution_count": 2,
   "id": "7a80990b",
   "metadata": {},
   "outputs": [],
   "source": [
    "from data import SmileDataset, MolecularPreprocessor, FlowDataset\n",
    "\n",
    "\n",
    "# Path Constants\n",
    "ZINC_250K = 'data/files/zinc250k.csv'\n",
    "ZINC_250K_PREPROCESSED = 'data/files/zinc250k_preprocessed'\n",
    "# QM9 = 'data/files/qm9.csv'\n",
    "# QM9_PREPROCESSED = 'data/files/qm9_preprocessed'\n",
    "# BACE1 = 'data/files/bace1.csv'"
   ]
  },
  {
   "cell_type": "code",
   "execution_count": 3,
   "id": "c5cb5ef6",
   "metadata": {},
   "outputs": [
    {
     "name": "stderr",
     "output_type": "stream",
     "text": [
      "Converting SMILES to molecules: 100%|██████████| 249455/249455 [00:22<00:00, 10974.48it/s]\n",
      "Analyzing molecular properties: 100%|██████████| 249455/249455 [00:07<00:00, 34024.93it/s]\n"
     ]
    }
   ],
   "source": [
    "data = SmileDataset(ZINC_250K, smile_col='smiles')"
   ]
  },
  {
   "cell_type": "code",
   "execution_count": 4,
   "id": "c0f6f4bf",
   "metadata": {},
   "outputs": [
    {
     "data": {
      "text/plain": [
       "{'num_molecules': 249455,\n",
       " 'max_atoms': 38,\n",
       " 'atomic_numbers': [0, 6, 7, 8, 9, 15, 16, 17, 35, 53]}"
      ]
     },
     "execution_count": 4,
     "metadata": {},
     "output_type": "execute_result"
    }
   ],
   "source": [
    "data.get_statistics()"
   ]
  },
  {
   "cell_type": "code",
   "execution_count": 5,
   "id": "3efaef96",
   "metadata": {},
   "outputs": [
    {
     "name": "stderr",
     "output_type": "stream",
     "text": [
      "Adding molecular properties:   0%|          | 0/249455 [00:00<?, ?it/s]"
     ]
    },
    {
     "name": "stderr",
     "output_type": "stream",
     "text": [
      "Adding molecular properties: 100%|██████████| 249455/249455 [00:30<00:00, 8084.88it/s]\n"
     ]
    }
   ],
   "source": [
    "# logp and qed are present in the dataset\n",
    "data.add_properties(\n",
    "    rdkit_descriptors=['MolWt', 'TPSA', 'NumHAcceptors', 'NumHDonors', 'NumRotatableBonds'],\n",
    "    dataframe_properties=['logP', 'qed'],\n",
    ")"
   ]
  },
  {
   "cell_type": "code",
   "execution_count": 6,
   "id": "9af7d2ea",
   "metadata": {},
   "outputs": [],
   "source": [
    "preprocessor = MolecularPreprocessor()\n",
    "stats = data.get_statistics()\n",
    "preprocessor.load(stats['max_atoms'], stats['atomic_numbers'], data.descriptors)"
   ]
  },
  {
   "cell_type": "code",
   "execution_count": null,
   "id": "65a051a0",
   "metadata": {},
   "outputs": [
    {
     "name": "stderr",
     "output_type": "stream",
     "text": [
      "Processing molecules:   0%|          | 1/249455 [00:00<?, ?mol/s]"
     ]
    },
    {
     "name": "stderr",
     "output_type": "stream",
     "text": [
      "Processing molecules: 100%|██████████| 249455/249455 [00:59<00:00, 4169.18mol/s]\n"
     ]
    },
    {
     "ename": "",
     "evalue": "",
     "output_type": "error",
     "traceback": [
      "\u001b[1;31mThe Kernel crashed while executing code in the current cell or a previous cell. \n",
      "\u001b[1;31mPlease review the code in the cell(s) to identify a possible cause of the failure. \n",
      "\u001b[1;31mClick <a href='https://aka.ms/vscodeJupyterKernelCrash'>here</a> for more info. \n",
      "\u001b[1;31mView Jupyter <a href='command:jupyter.viewOutput'>log</a> for further details."
     ]
    }
   ],
   "source": [
    "flow_dataset = FlowDataset(data, preprocessor)"
   ]
  },
  {
   "cell_type": "code",
   "execution_count": null,
   "id": "256a2559",
   "metadata": {},
   "outputs": [
    {
     "name": "stderr",
     "output_type": "stream",
     "text": [
      "Saving dataset:   0%|          | 0/1 [00:00<?, ?file/s]"
     ]
    }
   ],
   "source": [
    "flow_dataset.save(ZINC_250K_PREPROCESSED)"
   ]
  },
  {
   "cell_type": "code",
   "execution_count": null,
   "id": "979da5a0",
   "metadata": {},
   "outputs": [],
   "source": []
  }
 ],
 "metadata": {
  "kernelspec": {
   "display_name": "drug_discovery",
   "language": "python",
   "name": "python3"
  },
  "language_info": {
   "codemirror_mode": {
    "name": "ipython",
    "version": 3
   },
   "file_extension": ".py",
   "mimetype": "text/x-python",
   "name": "python",
   "nbconvert_exporter": "python",
   "pygments_lexer": "ipython3",
   "version": "3.10.13"
  }
 },
 "nbformat": 4,
 "nbformat_minor": 5
}
